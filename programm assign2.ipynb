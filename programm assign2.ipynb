{
 "cells": [
  {
   "cell_type": "code",
   "execution_count": 3,
   "id": "6a8c5e5a",
   "metadata": {},
   "outputs": [
    {
     "name": "stdout",
     "output_type": "stream",
     "text": [
      "enter data in kilometer 1\n",
      "0.6213 miles\n"
     ]
    }
   ],
   "source": [
    "##QUESION 1\n",
    "\n",
    "a=int(input(\"enter data in kilometer \"))\n",
    "b=a*0.6213\n",
    "print(b,\"miles\")\n"
   ]
  },
  {
   "cell_type": "code",
   "execution_count": 7,
   "id": "95c5248c",
   "metadata": {},
   "outputs": [
    {
     "name": "stdout",
     "output_type": "stream",
     "text": [
      "enter temperature in Celsius 100\n",
      "212.0 F\n"
     ]
    }
   ],
   "source": [
    "##QUESTION 2:\n",
    "\n",
    "a=int(input(\"enter temperature in Celsius \"))\n",
    "b=(a*1.8+32)\n",
    "print(b,\"F\")\n"
   ]
  },
  {
   "cell_type": "code",
   "execution_count": 9,
   "id": "d3a6cd44",
   "metadata": {},
   "outputs": [
    {
     "name": "stdout",
     "output_type": "stream",
     "text": [
      "enter year: 2022\n",
      "enter month: 05\n",
      "      May 2022\n",
      "Mo Tu We Th Fr Sa Su\n",
      "                   1\n",
      " 2  3  4  5  6  7  8\n",
      " 9 10 11 12 13 14 15\n",
      "16 17 18 19 20 21 22\n",
      "23 24 25 26 27 28 29\n",
      "30 31\n",
      "\n"
     ]
    }
   ],
   "source": [
    "##QUESTION 3:\n",
    "\n",
    "import calendar\n",
    "yy=int(input(\"enter year: \"))\n",
    "mm=int(input(\"enter month: \"))\n",
    "print (calendar.month(yy,mm))"
   ]
  },
  {
   "cell_type": "code",
   "execution_count": 16,
   "id": "f01a6975",
   "metadata": {},
   "outputs": [
    {
     "name": "stdout",
     "output_type": "stream",
     "text": [
      "enter coefficient of x^2= 1\n",
      "enter coefficient of x= 5\n",
      "enter the constant term= 4\n",
      "determinant= 9\n",
      "first solution is =  -0.25\n",
      "second solution is =  -4.75\n"
     ]
    }
   ],
   "source": [
    "##QUESTION 4:\n",
    "\n",
    "# assume a quadratic equation : (ax^2+bx+c=0)\n",
    "a=int(input(\"enter coefficient of x^2= \"))\n",
    "b=int(input(\"enter coefficient of x= \"))\n",
    "c=int(input(\"enter the constant term= \"))\n",
    "d=(b**2-4*a*c)\n",
    "print(\"determinant=\",d)\n",
    "s1=(-b+d**1/2)/(2*a)\n",
    "s2=(-b-d**1/2)/(2*a)\n",
    "print(\"first solution is = \",s1)\n",
    "print(\"second solution is = \",s2)"
   ]
  },
  {
   "cell_type": "code",
   "execution_count": 18,
   "id": "1abff2c3",
   "metadata": {},
   "outputs": [
    {
     "name": "stdout",
     "output_type": "stream",
     "text": [
      "2\n",
      "5\n"
     ]
    }
   ],
   "source": [
    "##QUESTION 5:\n",
    "\n",
    "a=5\n",
    "b=2\n",
    "\n",
    "a,b=b,a\n",
    "print (a)\n",
    "print(b)"
   ]
  },
  {
   "cell_type": "code",
   "execution_count": null,
   "id": "4b0897d8",
   "metadata": {},
   "outputs": [],
   "source": []
  }
 ],
 "metadata": {
  "kernelspec": {
   "display_name": "Python 3 (ipykernel)",
   "language": "python",
   "name": "python3"
  },
  "language_info": {
   "codemirror_mode": {
    "name": "ipython",
    "version": 3
   },
   "file_extension": ".py",
   "mimetype": "text/x-python",
   "name": "python",
   "nbconvert_exporter": "python",
   "pygments_lexer": "ipython3",
   "version": "3.9.7"
  }
 },
 "nbformat": 4,
 "nbformat_minor": 5
}
